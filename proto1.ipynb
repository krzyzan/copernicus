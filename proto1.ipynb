{
 "cells": [
  {
   "cell_type": "code",
   "execution_count": 357,
   "metadata": {},
   "outputs": [
    {
     "name": "stdout",
     "output_type": "stream",
     "text": [
      "5368\n"
     ]
    }
   ],
   "source": [
    "# Download data\n",
    "\n",
    "import numpy as np\n",
    "import pandas as pd\n",
    "\n",
    "url = \"https://stooq.pl/q/d/l/?s=fw20&i=d\"\n",
    "names = ['date','open','high','low','close','vol','lop']\n",
    "data = pd.read_csv(url, header=0, names=names)\n",
    "\n",
    "# Dimensions of dataset\n",
    "num_samples = data.shape[0]\n",
    "num_columns = data.shape[1]\n",
    "print(num_samples)"
   ]
  },
  {
   "cell_type": "code",
   "execution_count": 358,
   "metadata": {},
   "outputs": [
    {
     "data": {
      "image/png": "[encoded data removed]",
      "text/plain": [
       "<Figure size 432x288 with 1 Axes>"
      ]
     },
     "metadata": {
      "needs_background": "light"
     },
     "output_type": "display_data"
    }
   ],
   "source": [
    "# Plot price chart\n",
    "\n",
    "import matplotlib.pyplot as plt\n",
    "plt.plot(data['close'])\n",
    "plt.xlabel('date')\n",
    "plt.ylabel('close')\n",
    "plt.xticks(np.arange(data['date'].shape[0])[::500], data['date'][::500], rotation=45)\n",
    "plt.show()"
   ]
  },
  {
   "cell_type": "code",
   "execution_count": 359,
   "metadata": {},
   "outputs": [],
   "source": [
    "# Convert to numpy array\n",
    "data = data.values"
   ]
  },
  {
   "cell_type": "code",
   "execution_count": 360,
   "metadata": {},
   "outputs": [],
   "source": [
    "# Prepare and normalize data\n",
    "from sklearn.preprocessing import MinMaxScaler\n",
    "\n",
    "X = []\n",
    "y = []\n",
    "n = 100\n",
    "for i in range(n+1, num_samples):\n",
    "    X.append(data[i-1-n:i-1, 4]/data[i-1, 4]-1)\n",
    "    y.append(data[i:i+1, 4]/data[i-1, 4]-1)\n",
    "\n",
    "scaler_x = MinMaxScaler(feature_range=(-1,1))\n",
    "X = np.array(X, \"float32\").reshape(len(X), n)\n",
    "X = scaler_x.fit_transform(X)\n",
    "\n",
    "scaler_y = MinMaxScaler(feature_range=(-1,1))\n",
    "y = np.array(y, \"float32\").reshape(len(y), 1)\n",
    "y = scaler_y.fit_transform(y)\n",
    "\n",
    "#X = np.reshape(X, (X.shape[0], X.shape[1], 1))\n"
   ]
  },
  {
   "cell_type": "code",
   "execution_count": 361,
   "metadata": {},
   "outputs": [],
   "source": [
    "# Split data to train and test\n",
    "#from sklearn.model_selection import train_test_split\n",
    "\n",
    "train_start = 0\n",
    "train_end = int(np.floor(0.8*num_samples))-n-1\n",
    "test_start = train_end\n",
    "test_end = num_samples-n-1\n",
    "X_train = X[np.arange(train_start, train_end), :]\n",
    "y_train = y[np.arange(train_start, train_end)]\n",
    "X_test = X[np.arange(test_start, test_end), :]\n",
    "y_test = y[np.arange(test_start, test_end)]"
   ]
  },
  {
   "cell_type": "code",
   "execution_count": 362,
   "metadata": {},
   "outputs": [
    {
     "name": "stdout",
     "output_type": "stream",
     "text": [
      "2.0.0-beta1\n"
     ]
    }
   ],
   "source": [
    "from __future__ import absolute_import, division, print_function\n",
    "\n",
    "# TensorFlow and tf.keras\n",
    "import tensorflow as tf\n",
    "from tensorflow import keras\n",
    "\n",
    "print(tf.__version__)"
   ]
  },
  {
   "cell_type": "code",
   "execution_count": null,
   "metadata": {},
   "outputs": [],
   "source": [
    "model = keras.Sequential()\n",
    "model.add(keras.layers.Dense(64, activation='tanh', input_dim=n))\n",
    "model.add(keras.layers.Dense(16, activation='tanh'))\n",
    "model.add(keras.layers.Dense(1, activation='linear'))\n",
    "model.compile(optimizer='adam', loss='mean_squared_error', metrics=['accuracy'])\n",
    "\n",
    "history = model.fit(X_train, y_train, epochs=1000, verbose=0, validation_data=(X_test, y_test))\n"
   ]
  },
  {
   "cell_type": "code",
   "execution_count": null,
   "metadata": {},
   "outputs": [],
   "source": [
    "# summarize history for loss\n",
    "plt.plot(history.history['loss'])\n",
    "plt.plot(history.history['val_loss'])\n",
    "plt.yscale('log')\n",
    "plt.title('model loss')\n",
    "plt.ylabel('loss')\n",
    "plt.xlabel('epoch')\n",
    "plt.legend(['train', 'test'], loc='upper left')\n",
    "plt.show()"
   ]
  },
  {
   "cell_type": "code",
   "execution_count": null,
   "metadata": {},
   "outputs": [],
   "source": [
    "model.evaluate(X_test, y_test)"
   ]
  },
  {
   "cell_type": "code",
   "execution_count": null,
   "metadata": {},
   "outputs": [],
   "source": [
    "prediction = model.predict(X_test)\n",
    "test = scaler_y.inverse_transform(y_test)\n",
    "prediction = scaler_y.inverse_transform(prediction)\n",
    "\n",
    "y = p = data[test_start,4]\n",
    "y_chart = []\n",
    "p_chart = []\n",
    "for i in range(0, test_end-test_start):\n",
    "    y_chart.append(y)\n",
    "    p_chart.append(p)\n",
    "    y = y*(test[i]+1)\n",
    "    p = p*(prediction[i]+1)\n",
    "\n",
    "plt.plot(y_chart)\n",
    "plt.plot(p_chart)\n",
    "plt.xticks(np.arange(data[0].shape[0])[::100], data[0][::100], rotation=45)\n",
    "#plt.grid(linestyle='dotted', linewidth=1)\n",
    "plt.ylabel('close')\n",
    "plt.legend(['actual', 'prediction'], loc='upper left')\n",
    "plt.show()"
   ]
  },
  {
   "cell_type": "code",
   "execution_count": null,
   "metadata": {},
   "outputs": [],
   "source": []
  }
 ],
 "metadata": {
  "kernelspec": {
   "display_name": "Python 3",
   "language": "python",
   "name": "python3"
  },
  "language_info": {
   "codemirror_mode": {
    "name": "ipython",
    "version": 3
   },
   "file_extension": ".py",
   "mimetype": "text/x-python",
   "name": "python",
   "nbconvert_exporter": "python",
   "pygments_lexer": "ipython3",
   "version": "3.6.5"
  }
 },
 "nbformat": 4,
 "nbformat_minor": 2
}
